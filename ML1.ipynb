{
 "cells": [
  {
   "cell_type": "code",
   "execution_count": 2,
   "id": "db9daf92-c20e-43d0-8fae-b569cb32b1d8",
   "metadata": {},
   "outputs": [],
   "source": [
    "import pandas as pd\n",
    "import matplotlib.pyplot as plt\n",
    "import seaborn as sns\n",
    "from sklearn.model_selection import train_test_split\n",
    "from sklearn.linear_model import LinearRegression\n",
    "from sklearn.metrics import mean_squared_error, r2_score"
   ]
  },
  {
   "cell_type": "code",
   "execution_count": 1,
   "id": "526ff58c-7c49-430e-ac42-b64284677949",
   "metadata": {},
   "outputs": [
    {
     "name": "stdout",
     "output_type": "stream",
     "text": [
      "Error: 'train.csv' not found. Please download it from the Kaggle link.\n"
     ]
    }
   ],
   "source": [
    "# Import pandas library first\n",
    "import pandas as pd\n",
    "\n",
    "try:\n",
    "    df = pd.read_csv('/Users/krishshah1219@icloud.com/Desktp/ML-Task//Users/krishshah1219icloud.com/Desktop/ML-Task/house-prices-advanced-regression-techniques/train.csv')\n",
    "    print(\"Dataset is loaded successfully!\")\n",
    "except FileNotFoundError:\n",
    "    print(\"Error: 'train.csv' not found. Please download it from the Kaggle link.\")\n",
    "    exit()"
   ]
  },
  {
   "cell_type": "code",
   "execution_count": null,
   "id": "c27ed253-a0dc-4e80-9915-e8c87663b9a5",
   "metadata": {},
   "outputs": [],
   "source": []
  }
 ],
 "metadata": {
  "kernelspec": {
   "display_name": "Python [conda env:base] *",
   "language": "python",
   "name": "conda-base-py"
  },
  "language_info": {
   "codemirror_mode": {
    "name": "ipython",
    "version": 3
   },
   "file_extension": ".py",
   "mimetype": "text/x-python",
   "name": "python",
   "nbconvert_exporter": "python",
   "pygments_lexer": "ipython3",
   "version": "3.13.5"
  }
 },
 "nbformat": 4,
 "nbformat_minor": 5
}
